{
 "cells": [
  {
   "cell_type": "code",
   "execution_count": 17,
   "metadata": {},
   "outputs": [],
   "source": [
    "#taux des admis\n",
    "# les bibliotheques\n",
    "import pandas as pd\n",
    "import numpy as np\n",
    "import matplotlib.pyplot as plt"
   ]
  },
  {
   "cell_type": "code",
   "execution_count": 18,
   "metadata": {},
   "outputs": [
    {
     "data": {
      "text/html": [
       "<div>\n",
       "<style scoped>\n",
       "    .dataframe tbody tr th:only-of-type {\n",
       "        vertical-align: middle;\n",
       "    }\n",
       "\n",
       "    .dataframe tbody tr th {\n",
       "        vertical-align: top;\n",
       "    }\n",
       "\n",
       "    .dataframe thead th {\n",
       "        text-align: right;\n",
       "    }\n",
       "</style>\n",
       "<table border=\"1\" class=\"dataframe\">\n",
       "  <thead>\n",
       "    <tr style=\"text-align: right;\">\n",
       "      <th></th>\n",
       "      <th>Total_admis</th>\n",
       "      <th>Taux_Des_Admins</th>\n",
       "      <th>redoublant</th>\n",
       "      <th>TAUX_DE_REDOUBLANT</th>\n",
       "      <th>exclus</th>\n",
       "      <th>Taux_des_exclus</th>\n",
       "      <th>NombreETUD</th>\n",
       "      <th>ANNEE DEB</th>\n",
       "      <th>ANNE UNIVERSITAIRE</th>\n",
       "    </tr>\n",
       "  </thead>\n",
       "  <tbody>\n",
       "    <tr>\n",
       "      <th>0</th>\n",
       "      <td>5632</td>\n",
       "      <td>86,55 %</td>\n",
       "      <td>175</td>\n",
       "      <td>2,69 %</td>\n",
       "      <td>NaN</td>\n",
       "      <td>NaN</td>\n",
       "      <td>6507</td>\n",
       "      <td>2019</td>\n",
       "      <td>2019-2020</td>\n",
       "    </tr>\n",
       "    <tr>\n",
       "      <th>1</th>\n",
       "      <td>4877</td>\n",
       "      <td>91,38 %</td>\n",
       "      <td>716</td>\n",
       "      <td>13,42 %</td>\n",
       "      <td>1.0</td>\n",
       "      <td>0,02 %</td>\n",
       "      <td>5337</td>\n",
       "      <td>2018</td>\n",
       "      <td>2018-2019</td>\n",
       "    </tr>\n",
       "    <tr>\n",
       "      <th>2</th>\n",
       "      <td>4294</td>\n",
       "      <td>92,58 %</td>\n",
       "      <td>505</td>\n",
       "      <td>10,89 %</td>\n",
       "      <td>NaN</td>\n",
       "      <td>NaN</td>\n",
       "      <td>4638</td>\n",
       "      <td>2017</td>\n",
       "      <td>2017-2018</td>\n",
       "    </tr>\n",
       "    <tr>\n",
       "      <th>3</th>\n",
       "      <td>3816</td>\n",
       "      <td>90,79 %</td>\n",
       "      <td>826</td>\n",
       "      <td>19,65 %</td>\n",
       "      <td>NaN</td>\n",
       "      <td>NaN</td>\n",
       "      <td>4203</td>\n",
       "      <td>2016</td>\n",
       "      <td>2016-2017</td>\n",
       "    </tr>\n",
       "  </tbody>\n",
       "</table>\n",
       "</div>"
      ],
      "text/plain": [
       "   Total_admis Taux_Des_Admins  redoublant TAUX_DE_REDOUBLANT  exclus  \\\n",
       "0         5632         86,55 %         175             2,69 %     NaN   \n",
       "1         4877         91,38 %         716            13,42 %     1.0   \n",
       "2         4294         92,58 %         505            10,89 %     NaN   \n",
       "3         3816         90,79 %         826            19,65 %     NaN   \n",
       "\n",
       "  Taux_des_exclus  NombreETUD  ANNEE DEB ANNE UNIVERSITAIRE  \n",
       "0             NaN        6507       2019          2019-2020  \n",
       "1          0,02 %        5337       2018          2018-2019  \n",
       "2             NaN        4638       2017          2017-2018  \n",
       "3             NaN        4203       2016          2016-2017  "
      ]
     },
     "execution_count": 18,
     "metadata": {},
     "output_type": "execute_result"
    }
   ],
   "source": [
    "# charger la data \n",
    "df = pd.read_csv('source_Data_1.csv')\n",
    "df.head()"
   ]
  },
  {
   "cell_type": "code",
   "execution_count": 19,
   "metadata": {},
   "outputs": [
    {
     "data": {
      "text/plain": [
       "array([['86,55 %', '2,69 %', nan],\n",
       "       ['91,38 %', '13,42 %', '0,02 %'],\n",
       "       ['92,58 %', '10,89 %', nan],\n",
       "       ['90,79 %', '19,65 %', nan]], dtype=object)"
      ]
     },
     "execution_count": 19,
     "metadata": {},
     "output_type": "execute_result"
    }
   ],
   "source": [
    "#les variables explicatives\n",
    "X = df[['Taux_Des_Admins','TAUX_DE_REDOUBLANT','Taux_des_exclus']].values\n",
    "X[0:5]"
   ]
  },
  {
   "cell_type": "code",
   "execution_count": 20,
   "metadata": {},
   "outputs": [
    {
     "name": "stdout",
     "output_type": "stream",
     "text": [
      "before transformation  ........................................\n",
      "[['86,55 %' '2,69 %' nan]\n",
      " ['91,38 %' '13,42 %' '0,02 %']\n",
      " ['92,58 %' '10,89 %' nan]\n",
      " ['90,79 %' '19,65 %' nan]]\n",
      "After transformation.. ........................................\n"
     ]
    },
    {
     "data": {
      "text/plain": [
       "array([[0, '2,69 %', nan],\n",
       "       [2, '13,42 %', '0,02 %'],\n",
       "       [3, '10,89 %', nan],\n",
       "       [1, '19,65 %', nan]], dtype=object)"
      ]
     },
     "execution_count": 20,
     "metadata": {},
     "output_type": "execute_result"
    }
   ],
   "source": [
    "from sklearn import preprocessing\n",
    "le_gender = preprocessing.LabelEncoder()\n",
    "#le_gender.fit(['True','False'])\n",
    "le_gender.fit(X[:,0])\n",
    "print('before transformation ', '..'*20)\n",
    "print(X[0:5])\n",
    "print('After transformation..', '..'*20)\n",
    "X[:,0] = le_gender.transform(X[:,0]) \n",
    "X[0:5]"
   ]
  },
  {
   "cell_type": "code",
   "execution_count": 21,
   "metadata": {},
   "outputs": [
    {
     "name": "stdout",
     "output_type": "stream",
     "text": [
      "before transformation  ........................................\n",
      "[[0 '2,69 %' nan]\n",
      " [2 '13,42 %' '0,02 %']\n",
      " [3 '10,89 %' nan]\n",
      " [1 '19,65 %' nan]]\n",
      "After transformation.. ........................................\n"
     ]
    },
    {
     "data": {
      "text/plain": [
       "array([[0, 3, nan],\n",
       "       [2, 1, '0,02 %'],\n",
       "       [3, 0, nan],\n",
       "       [1, 2, nan]], dtype=object)"
      ]
     },
     "execution_count": 21,
     "metadata": {},
     "output_type": "execute_result"
    }
   ],
   "source": [
    "from sklearn import preprocessing\n",
    "le_gender = preprocessing.LabelEncoder()\n",
    "#le_gender.fit(['True','False'])\n",
    "le_gender.fit(X[:,1])\n",
    "print('before transformation ', '..'*20)\n",
    "print(X[0:5])\n",
    "print('After transformation..', '..'*20)\n",
    "X[:,1] = le_gender.transform(X[:,1]) \n",
    "X[0:5]"
   ]
  },
  {
   "cell_type": "code",
   "execution_count": 22,
   "metadata": {},
   "outputs": [
    {
     "name": "stdout",
     "output_type": "stream",
     "text": [
      "before transformation  ........................................\n",
      "[[0 3 nan]\n",
      " [2 1 '0,02 %']\n",
      " [3 0 nan]\n",
      " [1 2 nan]]\n",
      "After transformation.. ........................................\n"
     ]
    },
    {
     "data": {
      "text/plain": [
       "array([[0, 3, 1],\n",
       "       [2, 1, 0],\n",
       "       [3, 0, 1],\n",
       "       [1, 2, 1]], dtype=object)"
      ]
     },
     "execution_count": 22,
     "metadata": {},
     "output_type": "execute_result"
    }
   ],
   "source": [
    "from sklearn import preprocessing\n",
    "le_gender = preprocessing.LabelEncoder()\n",
    "#le_gender.fit(['True','False'])\n",
    "le_gender.fit(X[:,2])\n",
    "print('before transformation ', '..'*20)\n",
    "print(X[0:5])\n",
    "print('After transformation..', '..'*20)\n",
    "X[:,2] = le_gender.transform(X[:,2]) \n",
    "X[0:5]"
   ]
  },
  {
   "cell_type": "code",
   "execution_count": 23,
   "metadata": {},
   "outputs": [
    {
     "data": {
      "text/plain": [
       "0    6507\n",
       "1    5337\n",
       "2    4638\n",
       "3    4203\n",
       "Name: NombreETUD, dtype: int64"
      ]
     },
     "execution_count": 23,
     "metadata": {},
     "output_type": "execute_result"
    }
   ],
   "source": [
    "#variable cible\n",
    "y = df[\"NombreETUD\"]\n",
    "y[0:5]"
   ]
  },
  {
   "cell_type": "code",
   "execution_count": 24,
   "metadata": {},
   "outputs": [],
   "source": [
    "# diviser la data\n",
    "from sklearn.model_selection import train_test_split\n",
    "X_trainset, X_testset, y_trainset, y_testset = train_test_split(X, y, test_size=0.2, random_state=3)"
   ]
  },
  {
   "cell_type": "code",
   "execution_count": 25,
   "metadata": {},
   "outputs": [],
   "source": [
    "#appliquer le model\n",
    "from sklearn.linear_model import LinearRegression"
   ]
  },
  {
   "cell_type": "code",
   "execution_count": 26,
   "metadata": {},
   "outputs": [
    {
     "data": {
      "text/plain": [
       "LinearRegression()"
      ]
     },
     "execution_count": 26,
     "metadata": {},
     "output_type": "execute_result"
    }
   ],
   "source": [
    "#train\n",
    "lr = LinearRegression()\n",
    "lr.fit(X_trainset , y_trainset)"
   ]
  },
  {
   "cell_type": "code",
   "execution_count": 28,
   "metadata": {},
   "outputs": [
    {
     "data": {
      "text/plain": [
       "5648.5"
      ]
     },
     "execution_count": 28,
     "metadata": {},
     "output_type": "execute_result"
    }
   ],
   "source": [
    "lr.intercept_"
   ]
  },
  {
   "cell_type": "code",
   "execution_count": 29,
   "metadata": {},
   "outputs": [
    {
     "data": {
      "text/plain": [
       "array([5884.])"
      ]
     },
     "execution_count": 29,
     "metadata": {},
     "output_type": "execute_result"
    }
   ],
   "source": [
    "# prediction\n",
    "pred = lr.predict(X_testset)\n",
    "pred"
   ]
  },
  {
   "cell_type": "code",
   "execution_count": 30,
   "metadata": {},
   "outputs": [
    {
     "data": {
      "text/plain": [
       "3    False\n",
       "Name: NombreETUD, dtype: bool"
      ]
     },
     "execution_count": 30,
     "metadata": {},
     "output_type": "execute_result"
    }
   ],
   "source": [
    "y_testset==pred"
   ]
  },
  {
   "cell_type": "code",
   "execution_count": 31,
   "metadata": {},
   "outputs": [
    {
     "name": "stdout",
     "output_type": "stream",
     "text": [
      "  Taux_Des_Admins TAUX_DE_REDOUBLANT Taux_des_exclus NOMBRE_ETUD  \\\n",
      "0               1                  2               1        4203   \n",
      "\n",
      "  Predicted Marks  \n",
      "0            5884  \n"
     ]
    }
   ],
   "source": [
    "#out put un fichier csv\n",
    "df1=pd.DataFrame(np.c_[X_testset , y_testset , pred ,] ,columns =['Taux_Des_Admins','TAUX_DE_REDOUBLANT','Taux_des_exclus', 'NOMBRE_ETUD' , 'Predicted Marks'])\n",
    "print(df1)\n",
    "#df1.to_csv (r'export_dataframe.csv', index = False, header=True)\n"
   ]
  },
  {
   "cell_type": "code",
   "execution_count": 32,
   "metadata": {},
   "outputs": [
    {
     "name": "stdout",
     "output_type": "stream",
     "text": [
      "0    5884\n",
      "Name: Predicted Marks, dtype: object\n",
      "5884\n"
     ]
    }
   ],
   "source": [
    "p = df1[\"Predicted Marks\"]\n",
    "\n",
    "\n",
    "print(p)\n",
    "\n",
    "r1=round(int(p))\n",
    "print(r1)"
   ]
  },
  {
   "cell_type": "code",
   "execution_count": 48,
   "metadata": {},
   "outputs": [
    {
     "name": "stdout",
     "output_type": "stream",
     "text": [
      "   Total_admis Taux_Des_Admins  redoublant TAUX_DE_REDOUBLANT  exclus  \\\n",
      "0         5632         86,55 %         175             2,69 %     NaN   \n",
      "1         4877         91,38 %         716            13,42 %     1.0   \n",
      "2         4294         92,58 %         505            10,89 %     NaN   \n",
      "3         3816         90,79 %         826            19,65 %     NaN   \n",
      "\n",
      "  Taux_des_exclus  NombreETUD  ANNEE DEB ANNE UNIVERSITAIRE  \\\n",
      "0             NaN        6507       2019          2019-2020   \n",
      "1          0,02 %        5337       2018          2018-2019   \n",
      "2             NaN        4638       2017          2017-2018   \n",
      "3             NaN        4203       2016          2016-2017   \n",
      "\n",
      "  pred_effec_next_year_2020  \n",
      "0                      5884  \n",
      "1                       NaN  \n",
      "2                       NaN  \n",
      "3                       NaN  \n"
     ]
    }
   ],
   "source": [
    "new_df=df.assign(pred_effec_next_year_2020=p)\n",
    "print(new_df)\n",
    "new_df.to_csv (r'predict_ETU_Selon_les_Taux.csv', index = True, header=True)"
   ]
  },
  {
   "cell_type": "code",
   "execution_count": 49,
   "metadata": {},
   "outputs": [
    {
     "data": {
      "text/html": [
       "<div>\n",
       "<style scoped>\n",
       "    .dataframe tbody tr th:only-of-type {\n",
       "        vertical-align: middle;\n",
       "    }\n",
       "\n",
       "    .dataframe tbody tr th {\n",
       "        vertical-align: top;\n",
       "    }\n",
       "\n",
       "    .dataframe thead th {\n",
       "        text-align: right;\n",
       "    }\n",
       "</style>\n",
       "<table border=\"1\" class=\"dataframe\">\n",
       "  <thead>\n",
       "    <tr style=\"text-align: right;\">\n",
       "      <th></th>\n",
       "      <th>Unnamed: 0</th>\n",
       "      <th>Total_admis</th>\n",
       "      <th>Taux_Des_Admins</th>\n",
       "      <th>redoublant</th>\n",
       "      <th>TAUX_DE_REDOUBLANT</th>\n",
       "      <th>exclus</th>\n",
       "      <th>Taux_des_exclus</th>\n",
       "      <th>NombreETUD</th>\n",
       "      <th>ANNEE DEB</th>\n",
       "      <th>ANNE UNIVERSITAIRE</th>\n",
       "      <th>pred_effec_next_year_2020</th>\n",
       "    </tr>\n",
       "  </thead>\n",
       "  <tbody>\n",
       "    <tr>\n",
       "      <th>0</th>\n",
       "      <td>0</td>\n",
       "      <td>5632</td>\n",
       "      <td>86,55 %</td>\n",
       "      <td>175</td>\n",
       "      <td>2,69 %</td>\n",
       "      <td>NaN</td>\n",
       "      <td>NaN</td>\n",
       "      <td>6507</td>\n",
       "      <td>2019</td>\n",
       "      <td>2019-2020</td>\n",
       "      <td>5884.0</td>\n",
       "    </tr>\n",
       "    <tr>\n",
       "      <th>1</th>\n",
       "      <td>1</td>\n",
       "      <td>4877</td>\n",
       "      <td>91,38 %</td>\n",
       "      <td>716</td>\n",
       "      <td>13,42 %</td>\n",
       "      <td>1.0</td>\n",
       "      <td>0,02 %</td>\n",
       "      <td>5337</td>\n",
       "      <td>2018</td>\n",
       "      <td>2018-2019</td>\n",
       "      <td>NaN</td>\n",
       "    </tr>\n",
       "    <tr>\n",
       "      <th>2</th>\n",
       "      <td>2</td>\n",
       "      <td>4294</td>\n",
       "      <td>92,58 %</td>\n",
       "      <td>505</td>\n",
       "      <td>10,89 %</td>\n",
       "      <td>NaN</td>\n",
       "      <td>NaN</td>\n",
       "      <td>4638</td>\n",
       "      <td>2017</td>\n",
       "      <td>2017-2018</td>\n",
       "      <td>NaN</td>\n",
       "    </tr>\n",
       "    <tr>\n",
       "      <th>3</th>\n",
       "      <td>3</td>\n",
       "      <td>3816</td>\n",
       "      <td>90,79 %</td>\n",
       "      <td>826</td>\n",
       "      <td>19,65 %</td>\n",
       "      <td>NaN</td>\n",
       "      <td>NaN</td>\n",
       "      <td>4203</td>\n",
       "      <td>2016</td>\n",
       "      <td>2016-2017</td>\n",
       "      <td>NaN</td>\n",
       "    </tr>\n",
       "  </tbody>\n",
       "</table>\n",
       "</div>"
      ],
      "text/plain": [
       "   Unnamed: 0  Total_admis Taux_Des_Admins  redoublant TAUX_DE_REDOUBLANT  \\\n",
       "0           0         5632         86,55 %         175             2,69 %   \n",
       "1           1         4877         91,38 %         716            13,42 %   \n",
       "2           2         4294         92,58 %         505            10,89 %   \n",
       "3           3         3816         90,79 %         826            19,65 %   \n",
       "\n",
       "   exclus Taux_des_exclus  NombreETUD  ANNEE DEB ANNE UNIVERSITAIRE  \\\n",
       "0     NaN             NaN        6507       2019          2019-2020   \n",
       "1     1.0          0,02 %        5337       2018          2018-2019   \n",
       "2     NaN             NaN        4638       2017          2017-2018   \n",
       "3     NaN             NaN        4203       2016          2016-2017   \n",
       "\n",
       "   pred_effec_next_year_2020  \n",
       "0                     5884.0  \n",
       "1                        NaN  \n",
       "2                        NaN  \n",
       "3                        NaN  "
      ]
     },
     "execution_count": 49,
     "metadata": {},
     "output_type": "execute_result"
    }
   ],
   "source": [
    "new_df = pd.read_csv('predict_ETU_Selon_les_Taux.csv')\n",
    "new_df.head()"
   ]
  },
  {
   "cell_type": "code",
   "execution_count": 42,
   "metadata": {},
   "outputs": [
    {
     "data": {
      "text/plain": [
       "1.0"
      ]
     },
     "execution_count": 42,
     "metadata": {},
     "output_type": "execute_result"
    }
   ],
   "source": [
    "#evaluation\n",
    "lr.score(X_trainset,y_trainset)"
   ]
  },
  {
   "cell_type": "code",
   "execution_count": 43,
   "metadata": {},
   "outputs": [
    {
     "name": "stdout",
     "output_type": "stream",
     "text": [
      "1    5337\n",
      "0    6507\n",
      "2    4638\n",
      "Name: NombreETUD, dtype: int64\n"
     ]
    }
   ],
   "source": [
    "print(y_trainset)"
   ]
  },
  {
   "cell_type": "code",
   "execution_count": 44,
   "metadata": {},
   "outputs": [
    {
     "name": "stderr",
     "output_type": "stream",
     "text": [
      "<ipython-input-44-23e87a97e8c5>:9: MatplotlibDeprecationWarning: Adding an axes using the same arguments as a previous axes currently reuses the earlier instance.  In a future version, a new instance will always be created and returned.  Meanwhile, this warning can be suppressed, and the future behavior ensured, by passing a unique label to each axes instance.\n",
      "  axes = plt.axes()\n"
     ]
    },
    {
     "data": {
      "image/png": "[encoded data removed]",
      "text/plain": [
       "<Figure size 432x288 with 1 Axes>"
      ]
     },
     "metadata": {
      "needs_background": "light"
     },
     "output_type": "display_data"
    }
   ],
   "source": [
    "#plt.scatter(X_trainset ,  y_trainset)\n",
    "\n",
    "plt.plot(df[\"ANNE UNIVERSITAIRE\"],df.NombreETUD, color='r')\n",
    "#plt.plot(df.ANNEE_DEB,df.NombreETUD, color='b')\n",
    "X= df[\"ANNE UNIVERSITAIRE\"]\n",
    "#selection de deuxième colonnes de notre dataset (le profit effectué)\n",
    "Y= df.NombreETUD \n",
    " \n",
    "axes = plt.axes()\n",
    "axes.grid() # dessiner une grille pour une meilleur lisibilité du graphe\n",
    "plt.scatter(X,Y) # X et Y sont les variables qu'on a extraite dans le paragraphe précédent\n",
    "\n",
    "\n",
    "plt.plot(X_trainset ,lr.predict(X_trainset) , color='y')\n",
    "plt.show()\n",
    "\n"
   ]
  },
  {
   "cell_type": "code",
   "execution_count": 47,
   "metadata": {},
   "outputs": [
    {
     "data": {
      "text/plain": [
       "Text(0.5, 1.0, \"Exemple d'  evolution des etudiants par annee universitaire\")"
      ]
     },
     "execution_count": 47,
     "metadata": {},
     "output_type": "execute_result"
    },
    {
     "data": {
      "image/png": "[encoded data removed]",
      "text/plain": [
       "<Figure size 432x288 with 1 Axes>"
      ]
     },
     "metadata": {
      "needs_background": "light"
     },
     "output_type": "display_data"
    }
   ],
   "source": [
    "x = df[\"ANNE UNIVERSITAIRE\"]\n",
    "y=df[\"NombreETUD\"]\n",
    "plt.bar(x,y)\n",
    "plt.axis(xmin = -1, xmax = 4, ymin = -1, ymax = 7000)\n",
    "plt.xlabel('annee universitaire')\n",
    "plt.ylabel('nombres des etudiants')\n",
    "plt.title('Exemple d\\'  evolution des etudiants par annee universitaire')"
   ]
  },
  {
   "cell_type": "code",
   "execution_count": null,
   "metadata": {},
   "outputs": [],
   "source": []
  }
 ],
 "metadata": {
  "kernelspec": {
   "display_name": "Python 3",
   "language": "python",
   "name": "python3"
  },
  "language_info": {
   "codemirror_mode": {
    "name": "ipython",
    "version": 3
   },
   "file_extension": ".py",
   "mimetype": "text/x-python",
   "name": "python",
   "nbconvert_exporter": "python",
   "pygments_lexer": "ipython3",
   "version": "3.8.5"
  }
 },
 "nbformat": 4,
 "nbformat_minor": 4
}
